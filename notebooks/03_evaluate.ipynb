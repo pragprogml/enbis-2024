{
 "cells": [
  {
   "cell_type": "code",
   "execution_count": null,
   "metadata": {},
   "outputs": [],
   "source": [
    "%load_ext autoreload\n",
    "%autoreload 2\n",
    "%matplotlib inline\n",
    "\n",
    "import logging\n",
    "import os\n",
    "\n",
    "import seaborn as sns\n",
    "import yaml\n",
    "from dotenv import load_dotenv\n",
    "from ultralytics import YOLO\n",
    "\n",
    "logger = logging.getLogger()\n",
    "logger.setLevel(logging.INFO)\n",
    "\n",
    "load_dotenv(\"../.envrc\")\n",
    "\n",
    "ROOT_DIR = os.getenv(\"ROOT_DIR\")\n",
    "PARAMS = os.getenv(\"PARAMS\")\n",
    "os.chdir(ROOT_DIR)\n",
    "\n",
    "sns.set_style(\"darkgrid\")\n",
    "\n",
    "from src.libs.visualize import display_metrics, evaluate_model_on_images  # noqa: E402"
   ]
  },
  {
   "cell_type": "markdown",
   "metadata": {},
   "source": [
    "## Load the model for evaluation"
   ]
  },
  {
   "cell_type": "code",
   "execution_count": null,
   "metadata": {},
   "outputs": [],
   "source": [
    "with open(PARAMS) as conf_file:\n",
    "    config = yaml.safe_load(conf_file)\n",
    "\n",
    "model_path = config[\"evaluate\"][\"best_model\"]\n",
    "\n",
    "model = YOLO(model_path)"
   ]
  },
  {
   "cell_type": "markdown",
   "metadata": {},
   "source": [
    "## Display predictions on validation set"
   ]
  },
  {
   "cell_type": "code",
   "execution_count": null,
   "metadata": {},
   "outputs": [],
   "source": [
    "evaluate_model_on_images(\n",
    "    detection_model=model, image_directory_path=config[\"data_split\"][\"val_path\"], num_images_to_sample=16\n",
    ")"
   ]
  },
  {
   "cell_type": "markdown",
   "metadata": {},
   "source": [
    "## Display predictions on test set"
   ]
  },
  {
   "cell_type": "code",
   "execution_count": null,
   "metadata": {},
   "outputs": [],
   "source": [
    "evaluate_model_on_images(\n",
    "    detection_model=model, image_directory_path=config[\"data_split\"][\"test_path\"], num_images_to_sample=16\n",
    ")"
   ]
  },
  {
   "cell_type": "code",
   "execution_count": null,
   "metadata": {},
   "outputs": [],
   "source": [
    "metrics = model.val(device=\"mps\", project=config[\"train\"][\"project\"])\n",
    "display_metrics(metrics)"
   ]
  }
 ],
 "metadata": {
  "kernelspec": {
   "display_name": ".venv",
   "language": "python",
   "name": "python3"
  },
  "language_info": {
   "codemirror_mode": {
    "name": "ipython",
    "version": 3
   },
   "file_extension": ".py",
   "mimetype": "text/x-python",
   "name": "python",
   "nbconvert_exporter": "python",
   "pygments_lexer": "ipython3",
   "version": "3.10.15"
  }
 },
 "nbformat": 4,
 "nbformat_minor": 2
}
