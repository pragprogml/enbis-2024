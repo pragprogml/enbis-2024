{
 "cells": [
  {
   "cell_type": "markdown",
   "metadata": {},
   "source": [
    "## Work in progress"
   ]
  },
  {
   "cell_type": "code",
   "execution_count": null,
   "metadata": {},
   "outputs": [],
   "source": [
    "%load_ext autoreload\n",
    "%autoreload 2\n",
    "%matplotlib inline\n",
    "\n",
    "import logging\n",
    "import os\n",
    "\n",
    "import seaborn as sns\n",
    "import yaml\n",
    "from dotenv import load_dotenv\n",
    "from ultralytics import YOLO\n",
    "\n",
    "logger = logging.getLogger()\n",
    "logger.setLevel(logging.INFO)\n",
    "\n",
    "load_dotenv(\"../.envrc\")\n",
    "\n",
    "ROOT_DIR = os.getenv(\"ROOT_DIR\")\n",
    "PARAMS = os.getenv(\"PARAMS\")\n",
    "os.chdir(ROOT_DIR)\n",
    "\n",
    "sns.set_style(\"darkgrid\")"
   ]
  },
  {
   "cell_type": "markdown",
   "metadata": {},
   "source": [
    "## Export the model in ONNX format"
   ]
  },
  {
   "cell_type": "code",
   "execution_count": null,
   "metadata": {},
   "outputs": [],
   "source": [
    "with open(PARAMS) as conf_file:\n",
    "    config = yaml.safe_load(conf_file)\n",
    "\n",
    "model_path = config[\"evaluate\"][\"best_model\"]\n",
    "\n",
    "model = YOLO(model_path)\n",
    "model.export(format=\"onnx\", imgsz=(256, 306), dynamic=False)\n",
    "model.export(format=\"onnx\", imgsz=306, dynamic=False)"
   ]
  },
  {
   "cell_type": "code",
   "execution_count": null,
   "metadata": {},
   "outputs": [],
   "source": [
    "import cv2\n",
    "import numpy as np\n",
    "import onnxruntime as ort\n",
    "\n",
    "# from ultralytics import non_max_suppression, xyxy2xywh\n",
    "# from IPython.display import Image, display\n",
    "# display(Image(filename='image.png'))\n",
    "\n",
    "onnx_model = ort.InferenceSession(\"models/best_model.onnx\")\n",
    "inputs = onnx_model.get_inputs()\n",
    "input = inputs[0]\n",
    "\n",
    "print(\"Name:\", input.name)\n",
    "print(\"Type:\", input.type)\n",
    "print(\"Shape:\", input.shape)\n",
    "\n",
    "outputs = onnx_model.get_outputs()\n",
    "output = outputs[0]\n",
    "print(\"Name:\", output.name)\n",
    "print(\"Type:\", output.type)\n",
    "print(\"Shape:\", output.shape)\n",
    "\n",
    "\n",
    "def predict(image_path):\n",
    "    image = cv2.imread(image_path)\n",
    "    image = cv2.cvtColor(image, cv2.COLOR_BGR2RGB)\n",
    "    image = cv2.resize(image, (320, 320), interpolation=cv2.INTER_LINEAR)\n",
    "    image = np.expand_dims(image, axis=0).astype(\"float32\") / 255.0\n",
    "    image = np.transpose(image, (0, 3, 1, 2))\n",
    "    logging.info(image.shape)\n",
    "\n",
    "    outputs = onnx_model.run(None, {\"images\": image})\n",
    "\n",
    "    print(outputs)\n",
    "\n",
    "    output = outputs[0]\n",
    "    print(\"Output shape:\", output.shape)\n",
    "\n",
    "    output = output.transpose()\n",
    "    print(\"Output shape:\", output.shape)\n",
    "\n",
    "    row = output[0]\n",
    "    print(row)\n",
    "    x1, y1, x2, y2 = row[:4]\n",
    "    print(x1, y1, x2, y2)\n",
    "\n",
    "    # x1 = (xc - w/2) / 320 * 320\n",
    "    # y1 = (yc - h/2) / 320 * 320\n",
    "    # x2 = (xc + w/2) / 320 * 320\n",
    "    # y2 = (yc + h/2) / 320 * 320\n",
    "\n",
    "    # print(x1[0], y1[0], x2[0], y2[0])\n",
    "\n",
    "    # img = cv2.imread(\"image.png\")\n",
    "    # cv2.rectangle(img, (11.995002, 1.6412115), (38.259865, 36.000008), (36, 255, 12), 1)\n",
    "    # plt.imshow(img)\n",
    "    # plt.axis(False)\n",
    "    # plt.grid(False)\n",
    "    # plt.subplots_adjust(left=0, right=1, top=1, bottom=0)\n",
    "    # plt.show()\n",
    "\n",
    "\n",
    "model = predict(\"data/plugs/test/images/random-plug.png\")"
   ]
  }
 ],
 "metadata": {
  "kernelspec": {
   "display_name": ".venv",
   "language": "python",
   "name": "python3"
  },
  "language_info": {
   "codemirror_mode": {
    "name": "ipython",
    "version": 3
   },
   "file_extension": ".py",
   "mimetype": "text/x-python",
   "name": "python",
   "nbconvert_exporter": "python",
   "pygments_lexer": "ipython3",
   "version": "3.10.15"
  }
 },
 "nbformat": 4,
 "nbformat_minor": 2
}
