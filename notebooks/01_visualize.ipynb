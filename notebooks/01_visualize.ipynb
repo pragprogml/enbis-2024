{
 "cells": [
  {
   "cell_type": "code",
   "execution_count": null,
   "metadata": {},
   "outputs": [],
   "source": [
    "%load_ext autoreload\n",
    "%autoreload 2\n",
    "%matplotlib inline\n",
    "\n",
    "import logging\n",
    "import os\n",
    "\n",
    "import seaborn as sns\n",
    "import yaml\n",
    "from dotenv import load_dotenv\n",
    "\n",
    "logger = logging.getLogger()\n",
    "logger.setLevel(logging.INFO)\n",
    "\n",
    "load_dotenv(\"../.envrc\")\n",
    "\n",
    "ROOT_DIR = os.getenv(\"ROOT_DIR\")\n",
    "PARAMS = os.getenv(\"PARAMS\")\n",
    "os.chdir(ROOT_DIR)\n",
    "\n",
    "sns.set_style(\"darkgrid\")\n",
    "\n",
    "from src.libs.visualize import display_labeled_images  # noqa: E402"
   ]
  },
  {
   "cell_type": "markdown",
   "metadata": {},
   "source": [
    "## Display labeled images from the training set"
   ]
  },
  {
   "cell_type": "code",
   "execution_count": null,
   "metadata": {},
   "outputs": [],
   "source": [
    "with open(PARAMS) as conf_file:\n",
    "    config = yaml.safe_load(conf_file)"
   ]
  },
  {
   "cell_type": "code",
   "execution_count": null,
   "metadata": {},
   "outputs": [],
   "source": [
    "display_labeled_images(\n",
    "    image_directory=config[\"data_split\"][\"train_path\"],\n",
    "    label_directory=config[\"data_split\"][\"train_labels\"],\n",
    "    max_images_to_display=32,\n",
    ")"
   ]
  },
  {
   "cell_type": "markdown",
   "metadata": {},
   "source": [
    "## Display labeled images from the validation set"
   ]
  },
  {
   "cell_type": "code",
   "execution_count": null,
   "metadata": {},
   "outputs": [],
   "source": [
    "display_labeled_images(\n",
    "    image_directory=config[\"data_split\"][\"val_path\"],\n",
    "    label_directory=config[\"data_split\"][\"val_labels\"],\n",
    "    max_images_to_display=32,\n",
    ")"
   ]
  }
 ],
 "metadata": {
  "kernelspec": {
   "display_name": ".venv",
   "language": "python",
   "name": "python3"
  },
  "language_info": {
   "codemirror_mode": {
    "name": "ipython",
    "version": 3
   },
   "file_extension": ".py",
   "mimetype": "text/x-python",
   "name": "python",
   "nbconvert_exporter": "python",
   "pygments_lexer": "ipython3",
   "version": "3.10.15"
  }
 },
 "nbformat": 4,
 "nbformat_minor": 2
}
