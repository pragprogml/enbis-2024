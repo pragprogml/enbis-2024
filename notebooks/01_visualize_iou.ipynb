{
 "cells": [
  {
   "cell_type": "code",
   "execution_count": null,
   "metadata": {},
   "outputs": [],
   "source": [
    "%load_ext autoreload\n",
    "%autoreload 2\n",
    "%matplotlib inline\n",
    "\n",
    "import logging\n",
    "import os\n",
    "\n",
    "import cv2\n",
    "import matplotlib.pyplot as plt\n",
    "import seaborn as sns\n",
    "import yaml\n",
    "from dotenv import load_dotenv\n",
    "from ultralytics import YOLO\n",
    "\n",
    "logger = logging.getLogger()\n",
    "logger.setLevel(logging.INFO)\n",
    "\n",
    "load_dotenv(\"../.envrc\")\n",
    "\n",
    "ROOT_DIR = os.getenv(\"ROOT_DIR\")\n",
    "PARAMS = os.getenv(\"PARAMS\")\n",
    "os.chdir(ROOT_DIR)\n",
    "\n",
    "sns.set_style(\"darkgrid\")\n",
    "\n",
    "from src.libs.utils import calculate_intersection_over_union  # noqa: E402\n",
    "from src.libs.visualize import perform_object_detection_and_plot_results  # noqa: E402"
   ]
  },
  {
   "cell_type": "markdown",
   "metadata": {},
   "source": [
    "## Load model parameters and settings"
   ]
  },
  {
   "cell_type": "code",
   "execution_count": null,
   "metadata": {},
   "outputs": [],
   "source": [
    "def plot_image(\n",
    "    image,\n",
    "):\n",
    "    plt.imshow(image)\n",
    "    plt.axis(False)\n",
    "    plt.grid(False)\n",
    "    plt.subplots_adjust(left=0, right=1, top=1, bottom=0)\n",
    "    # plt.savefig(\"snapshost.png\", bbox_inches=\"tight\", pad_inches=0)\n",
    "    plt.show()\n",
    "\n",
    "\n",
    "with open(PARAMS) as conf_file:\n",
    "    config = yaml.safe_load(conf_file)"
   ]
  },
  {
   "cell_type": "markdown",
   "metadata": {},
   "source": [
    "## Validate IOU (Intersection over Union)"
   ]
  },
  {
   "cell_type": "code",
   "execution_count": null,
   "metadata": {},
   "outputs": [],
   "source": [
    "selected_image_files = [\"random-plug.png\"]\n",
    "\n",
    "image_directory = config[\"data_split\"][\"test_path\"]\n",
    "label_directory = config[\"data_split\"][\"test_labels\"]\n",
    "\n",
    "for i, image_file in enumerate(selected_image_files):\n",
    "    logging.info(f\"Processing image: {image_file}\")\n",
    "\n",
    "    current_image_path = os.path.join(image_directory, image_file)\n",
    "    image = cv2.imread(current_image_path)\n",
    "    if image is None:\n",
    "        logging.info(f\"Failed to load image: {image_file}\")\n",
    "        continue\n",
    "\n",
    "    associated_label_file = os.path.splitext(image_file)[0] + \".txt\"\n",
    "    current_label_path = os.path.join(label_directory, associated_label_file)\n",
    "    try:\n",
    "        with open(current_label_path, \"r\") as f:\n",
    "            labels = f.read().strip().split(\"\\n\")\n",
    "            logging.info(f\"Found {len(labels)} labels in file: {associated_label_file}\")\n",
    "    except FileNotFoundError:\n",
    "        logging.info(f\"Label file not found: {associated_label_file}\")\n",
    "        continue\n",
    "\n",
    "    for label in labels:\n",
    "        parts = label.split()\n",
    "        if len(parts) != 5:\n",
    "            logging.info(f\"Invalid label format in file: {associated_label_file}\")\n",
    "            continue\n",
    "        class_id, x_center, y_center, width, height = map(float, parts)\n",
    "        x_min = int((x_center - width / 2) * image.shape[1])\n",
    "        y_min = int((y_center - height / 2) * image.shape[0])\n",
    "        x_max = int((x_center + width / 2) * image.shape[1])\n",
    "        y_max = int((y_center + height / 2) * image.shape[0])\n",
    "        cv2.rectangle(image, (x_min, y_min), (x_max, y_max), (36, 255, 12), 1)\n",
    "        # cv2.putText(image, 'Ground truth bbox', (x_min, y_min-10), cv2.FONT_HERSHEY_SIMPLEX, 0.6, (36,255,12), 2, cv2.LINE_AA) # noqa: E501\n",
    "\n",
    "        ground_truth_bbox = (x_min, y_min, x_max, y_max)\n",
    "        logging.info(f\"Ground_truth_bbox: {ground_truth_bbox}\")\n",
    "\n",
    "    plot_image(image)"
   ]
  },
  {
   "cell_type": "markdown",
   "metadata": {},
   "source": [
    "## Load the model"
   ]
  },
  {
   "cell_type": "code",
   "execution_count": null,
   "metadata": {},
   "outputs": [],
   "source": [
    "model_path = config[\"evaluate\"][\"best_model\"]\n",
    "\n",
    "if not os.path.isfile(model_path):\n",
    "    logging.error(f\"Model not found: {model_path}\")\n",
    "\n",
    "model = YOLO(model_path)"
   ]
  },
  {
   "cell_type": "markdown",
   "metadata": {},
   "source": [
    "\n",
    "## Perform plug detection and localization"
   ]
  },
  {
   "cell_type": "code",
   "execution_count": null,
   "metadata": {},
   "outputs": [],
   "source": [
    "for image_path in enumerate(selected_image_files):\n",
    "    detected_image, boxes, confidence = perform_object_detection_and_plot_results(\n",
    "        model, os.path.join(image_directory, image_file)\n",
    "    )\n",
    "    cv2.rectangle(detected_image, ground_truth_bbox[:2], ground_truth_bbox[2:], (36, 255, 12), 1)\n",
    "    plot_image(detected_image)"
   ]
  },
  {
   "cell_type": "code",
   "execution_count": null,
   "metadata": {},
   "outputs": [],
   "source": [
    "iou = calculate_intersection_over_union(tuple(boxes[0]), ground_truth_bbox)\n",
    "\n",
    "logging.info(f\"IOU: {round(iou, 2)}\")"
   ]
  }
 ],
 "metadata": {
  "kernelspec": {
   "display_name": ".venv",
   "language": "python",
   "name": "python3"
  },
  "language_info": {
   "codemirror_mode": {
    "name": "ipython",
    "version": 3
   },
   "file_extension": ".py",
   "mimetype": "text/x-python",
   "name": "python",
   "nbconvert_exporter": "python",
   "pygments_lexer": "ipython3",
   "version": "3.10.15"
  }
 },
 "nbformat": 4,
 "nbformat_minor": 2
}
