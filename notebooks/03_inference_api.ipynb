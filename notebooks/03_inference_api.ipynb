{
 "cells": [
  {
   "cell_type": "code",
   "execution_count": null,
   "metadata": {},
   "outputs": [],
   "source": [
    "%load_ext autoreload\n",
    "%autoreload 2\n",
    "%matplotlib inline\n",
    "\n",
    "import json\n",
    "import logging\n",
    "import os\n",
    "\n",
    "import requests\n",
    "import seaborn as sns\n",
    "from dotenv import load_dotenv\n",
    "\n",
    "logger = logging.getLogger()\n",
    "logger.setLevel(logging.INFO)\n",
    "\n",
    "load_dotenv(\"../.envrc\")\n",
    "\n",
    "ROOT_DIR = os.getenv(\"ROOT_DIR\")\n",
    "PARAMS = os.getenv(\"PARAMS\")\n",
    "API_PORT = os.getenv(\"API_PORT\")\n",
    "\n",
    "os.chdir(ROOT_DIR)\n",
    "\n",
    "sns.set_style(\"darkgrid\")"
   ]
  },
  {
   "cell_type": "markdown",
   "metadata": {},
   "source": [
    "## Start the inference API"
   ]
  },
  {
   "cell_type": "code",
   "execution_count": null,
   "metadata": {},
   "outputs": [],
   "source": [
    "# Run the server in a terminal session\n",
    "# uvicorn src.api.predict:app  --reload --host=0.0.0.0 --port=API_PORT\n",
    "# or\n",
    "# make run-api"
   ]
  },
  {
   "cell_type": "markdown",
   "metadata": {},
   "source": [
    "## Call the inference API"
   ]
  },
  {
   "cell_type": "code",
   "execution_count": null,
   "metadata": {},
   "outputs": [],
   "source": [
    "from IPython.display import Image, display\n",
    "\n",
    "image_path = \"data/plugs/test/images/random-plug.png\"\n",
    "display(Image(filename=image_path))\n",
    "\n",
    "api = f\"http://localhost:{API_PORT}/predict/image\"\n",
    "image = {\"file\": open(image_path, \"rb\")}\n",
    "\n",
    "response = requests.post(api, files=image)\n",
    "\n",
    "response_json = response.json()\n",
    "print(json.dumps(response_json, indent=4))"
   ]
  }
 ],
 "metadata": {
  "kernelspec": {
   "display_name": "python-3.10",
   "language": "python",
   "name": "python3"
  },
  "language_info": {
   "codemirror_mode": {
    "name": "ipython",
    "version": 3
   },
   "file_extension": ".py",
   "mimetype": "text/x-python",
   "name": "python",
   "nbconvert_exporter": "python",
   "pygments_lexer": "ipython3",
   "version": "3.10.15"
  }
 },
 "nbformat": 4,
 "nbformat_minor": 2
}
