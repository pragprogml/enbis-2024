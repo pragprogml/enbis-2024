{
 "cells": [
  {
   "cell_type": "markdown",
   "metadata": {},
   "source": [
    "# Real-time Monitoring of the Piercing Plug in the Seamless Steel Tube Hot Rolling Process - Dataset\n",
    "\n",
    "This datasets features  grayscale image documenting the piercing plug operation in seamless steel tube manufacturing. Captured at the critical moment of plug-billet contact. Its monochromatic nature indicates a specialized camera designed for the high-temperature, particulate-heavy steel manufacturing environment. A timestamp in the upper left aids in synchronizing this data with other sensors.\n",
    "\n",
    "This image demonstrates the challenging conditions for industrial computer vision systems."
   ]
  },
  {
   "cell_type": "code",
   "execution_count": null,
   "metadata": {},
   "outputs": [],
   "source": [
    "%load_ext autoreload\n",
    "%autoreload 2\n",
    "%matplotlib inline\n",
    "\n",
    "import logging\n",
    "import os\n",
    "from glob import glob\n",
    "\n",
    "import cv2\n",
    "import seaborn as sns\n",
    "import yaml\n",
    "from dotenv import load_dotenv\n",
    "from matplotlib import pyplot as plt\n",
    "\n",
    "logger = logging.getLogger()\n",
    "logger.setLevel(logging.INFO)\n",
    "\n",
    "load_dotenv(\"../.envrc\")\n",
    "\n",
    "ROOT_DIR = os.getenv(\"ROOT_DIR\")\n",
    "PARAMS = os.getenv(\"PARAMS\")\n",
    "os.chdir(ROOT_DIR)\n",
    "\n",
    "sns.set_style(\"darkgrid\")\n",
    "\n",
    "from src.libs.preprocessing import augment_image  # noqa: E402"
   ]
  },
  {
   "cell_type": "markdown",
   "metadata": {},
   "source": [
    "## High-Resolution Image from Industrial Camera\n",
    "\n",
    "<img src=\"../data/plugs/hi-res/59ca28b4-6a5c-420e-81fa-8d213bf683b4.png\" width=\"400\">\n",
    "<img src=\"../data/plugs/hi-res/166bbf2c-5dd4-46de-a314-5c44d125d5ab.png\" width=\"400\"> \n",
    "<img src=\"../data/plugs/hi-res/d8a69cb3-d3df-40eb-be38-f9c30067aa0c.png\" width=\"400\">"
   ]
  },
  {
   "cell_type": "markdown",
   "metadata": {},
   "source": [
    "## Processed at edge for size and brightness adjustment"
   ]
  },
  {
   "cell_type": "markdown",
   "metadata": {},
   "source": [
    "![sample](../data/plugs/test/images/covered-corner.png)\n",
    "![sample](../data/plugs/test/images/false-negative.png)\n",
    "![sample](../data/plugs/test/images/misplaced-plug.png)\n",
    "![sample](../data/plugs/test/images/new-negative.png)\n",
    "![sample](../data/plugs/test/images/no-plug-1.png)\n",
    "![sample](../data/plugs/test/images/no-plug-2.png)\n",
    "![sample](../data/plugs/test/images/plug-left.png)\n",
    "![sample](../data/plugs/test/images/plug-right.png)\n",
    "![sample](../data/plugs/test/images/plug-smoke.png)\n",
    "![sample](../data/plugs/test/images/random-plug-2.png)\n",
    "![sample](../data/plugs/test/images/random-plug.png)\n",
    "![sample](../data/plugs/test/images/zoomed-bg.png)\n",
    "![sample](../data/plugs/test/images/zoomed-plug.png)\n"
   ]
  },
  {
   "cell_type": "markdown",
   "metadata": {},
   "source": [
    "## Dataset dimensions"
   ]
  },
  {
   "cell_type": "code",
   "execution_count": null,
   "metadata": {},
   "outputs": [],
   "source": [
    "def count_images(dataset_path):\n",
    "    \"\"\"Count the number of files in a given dataset path.\"\"\"\n",
    "    try:\n",
    "        return len(glob(os.path.join(ROOT_DIR, dataset_path, \"*\")))\n",
    "    except Exception as e:\n",
    "        print(f\"Error counting images: {e}\")\n",
    "        return 0\n",
    "\n",
    "\n",
    "# Load configuration\n",
    "with open(PARAMS) as conf_file:\n",
    "    config = yaml.safe_load(conf_file)\n",
    "\n",
    "# Check if all required keys are present in the config\n",
    "required_keys = [\"train_path\", \"val_path\", \"test_path\"]\n",
    "if not all(key in config[\"data_split\"] for key in required_keys):\n",
    "    print(\"Configuration file is missing some required keys.\")\n",
    "else:\n",
    "    # Print the number of images in each dataset\n",
    "    print(f\"Number of images in the training set: {count_images(config['data_split']['train_path'])}\")\n",
    "    print(f\"Number of images in the validation set: {count_images(config['data_split']['val_path'])}\")\n",
    "    print(f\"Number of images in the test set: {count_images(config['data_split']['test_path'])}\")"
   ]
  },
  {
   "cell_type": "markdown",
   "metadata": {},
   "source": [
    "## Image Preprocessing"
   ]
  },
  {
   "cell_type": "code",
   "execution_count": null,
   "metadata": {},
   "outputs": [],
   "source": [
    "HORIZ_DISTORTION = 0.4\n",
    "LOW_BRIGHTNESS_BOUND = 3\n",
    "HIGH_BRIGHTNESS_BOUND = 3.5\n",
    "ANGLE = 8\n",
    "ZOOM = 0.8\n",
    "\n",
    "\n",
    "def plot_image(img):\n",
    "    plt.imshow(img)\n",
    "    plt.axis(False)\n",
    "    plt.grid(False)\n",
    "    plt.subplots_adjust(left=0, right=1, top=1, bottom=0)\n",
    "    plt.show()\n",
    "\n",
    "\n",
    "img = cv2.imread(\"data/plugs/hi-res/d8a69cb3-d3df-40eb-be38-f9c30067aa0c.png\", cv2.IMREAD_GRAYSCALE)\n",
    "\n",
    "cv2.imwrite(\n",
    "    \"data/plugs/hi-res/d8a69cb3-d3df-40eb-be38-f9c30067aa0c_augmente.png\",\n",
    "    augment_image(img, HORIZ_DISTORTION, LOW_BRIGHTNESS_BOUND, HIGH_BRIGHTNESS_BOUND, ANGLE, ZOOM),\n",
    ")\n",
    "\n",
    "augmented_img = cv2.imread(\"data/plugs/hi-res/d8a69cb3-d3df-40eb-be38-f9c30067aa0c_augmented.png\")\n",
    "plot_image(augmented_img)"
   ]
  }
 ],
 "metadata": {
  "kernelspec": {
   "display_name": ".venv",
   "language": "python",
   "name": "python3"
  },
  "language_info": {
   "codemirror_mode": {
    "name": "ipython",
    "version": 3
   },
   "file_extension": ".py",
   "mimetype": "text/x-python",
   "name": "python",
   "nbconvert_exporter": "python",
   "pygments_lexer": "ipython3",
   "version": "3.10.15"
  }
 },
 "nbformat": 4,
 "nbformat_minor": 2
}
