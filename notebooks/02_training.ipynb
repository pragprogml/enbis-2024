{
 "cells": [
  {
   "cell_type": "markdown",
   "metadata": {},
   "source": [
    "# Training using YOLOv8 \n",
    "\n",
    "YOLOv8 is an advanced object detection algorithm in the YOLO series, optimized for real-time processing with a focus on balancing detection accuracy and speed. It incorporates cutting-edge convolutional neural network architectures for efficient feature extraction and recognition of a diverse range of objects, including small or partially occluded items. \n"
   ]
  },
  {
   "cell_type": "code",
   "execution_count": null,
   "metadata": {},
   "outputs": [],
   "source": [
    "%load_ext autoreload\n",
    "%autoreload 2\n",
    "%matplotlib inline\n",
    "\n",
    "import json\n",
    "import logging\n",
    "import os\n",
    "\n",
    "import seaborn as sns\n",
    "import yaml\n",
    "from dotenv import load_dotenv\n",
    "\n",
    "logger = logging.getLogger()\n",
    "logger.setLevel(logging.INFO)\n",
    "\n",
    "load_dotenv(\"../.envrc\")\n",
    "\n",
    "ROOT_DIR = os.getenv(\"ROOT_DIR\")\n",
    "PARAMS = os.getenv(\"PARAMS\")\n",
    "os.chdir(ROOT_DIR)\n",
    "\n",
    "sns.set_style(\"darkgrid\")\n",
    "\n",
    "from src.stages.training import training  # noqa: E402"
   ]
  },
  {
   "cell_type": "code",
   "execution_count": null,
   "metadata": {},
   "outputs": [],
   "source": [
    "with open(PARAMS, \"r\") as file:\n",
    "    yaml_content = yaml.safe_load(file)\n",
    "\n",
    "print(json.dumps(yaml_content, indent=4))"
   ]
  },
  {
   "cell_type": "code",
   "execution_count": null,
   "metadata": {},
   "outputs": [],
   "source": [
    "print(PARAMS)\n",
    "training(PARAMS)"
   ]
  }
 ],
 "metadata": {
  "kernelspec": {
   "display_name": ".venv",
   "language": "python",
   "name": "python3"
  },
  "language_info": {
   "codemirror_mode": {
    "name": "ipython",
    "version": 3
   },
   "file_extension": ".py",
   "mimetype": "text/x-python",
   "name": "python",
   "nbconvert_exporter": "python",
   "pygments_lexer": "ipython3",
   "version": "3.10.15"
  }
 },
 "nbformat": 4,
 "nbformat_minor": 2
}
